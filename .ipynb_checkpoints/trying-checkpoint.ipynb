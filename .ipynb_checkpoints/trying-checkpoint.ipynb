{
 "cells": [
  {
   "cell_type": "markdown",
   "metadata": {},
   "source": [
    "# Trying PCA on NBA Players"
   ]
  },
  {
   "cell_type": "code",
   "execution_count": 1,
   "metadata": {},
   "outputs": [],
   "source": [
    "import pandas as pd\n",
    "import numpy as np\n",
    "import matplotlib.pyplot as plt\n",
    "from functools import reduce\n",
    "import glob\n",
    "from sklearn.preprocessing import MinMaxScaler\n",
    "from sklearn.metrics.pairwise import euclidean_distances\n",
    "from ipywidgets import interact, interactive, fixed, interact_manual\n",
    "import ipywidgets as widgets\n",
    "from sklearn.decomposition import PCA"
   ]
  },
  {
   "cell_type": "code",
   "execution_count": 2,
   "metadata": {},
   "outputs": [],
   "source": [
    "def extract_data(folder):\n",
    "    glued_data = pd.DataFrame()\n",
    "    for file_name in glob.glob('C://Users//sabar//Downloads//nba_pca//'+folder+'//*.csv'):\n",
    "        x = pd.read_csv(file_name, low_memory=False)\n",
    "        glued_data = pd.concat([glued_data,x],axis=0)\n",
    "    return glued_data"
   ]
  },
  {
   "cell_type": "code",
   "execution_count": 3,
   "metadata": {},
   "outputs": [
    {
     "name": "stdout",
     "output_type": "stream",
     "text": [
      "(592, 17)\n",
      "(592, 26)\n",
      "(592, 33)\n",
      "(592, 33)\n",
      "(592, 43)\n",
      "(592, 14)\n",
      "(592, 16)\n",
      "(592, 33)\n",
      "(592, 13)\n",
      "(592, 31)\n"
     ]
    }
   ],
   "source": [
    "fouls = extract_data('fouls')\n",
    "misc = extract_data('misc')\n",
    "penalty_pts = extract_data('penalty_pts')\n",
    "second_chance = extract_data('second_chance')\n",
    "shot_distribution = extract_data('shot_distribution')\n",
    "FT_source = extract_data('FT_source')\n",
    "turnovers = extract_data('turnovers')\n",
    "rebounds = extract_data('rebounds')\n",
    "assists = extract_data('assists')\n",
    "scoring = extract_data('scoring')\n",
    "\n",
    "# print(fouls.shape)\n",
    "# print(misc.shape)\n",
    "# print(penalty_pts.shape)\n",
    "# print(second_chance.shape)\n",
    "# print(shot_distribution.shape)\n",
    "# print(FT_source.shape)\n",
    "# print(turnovers.shape)\n",
    "# print(rebounds.shape)\n",
    "# print(assists.shape)\n",
    "# print(scoring.shape)"
   ]
  },
  {
   "cell_type": "code",
   "execution_count": 4,
   "metadata": {},
   "outputs": [
    {
     "name": "stdout",
     "output_type": "stream",
     "text": [
      "(530, 17)\n",
      "(530, 26)\n",
      "(530, 33)\n",
      "(530, 33)\n",
      "(530, 43)\n",
      "(530, 14)\n",
      "(530, 16)\n",
      "(530, 33)\n",
      "(530, 13)\n",
      "(530, 31)\n"
     ]
    }
   ],
   "source": [
    "\n",
    "#some players have played for two or three teams. Dropping the teams for whom they played least number of matches\n",
    "fouls = fouls.sort_values(by='Minutes').drop_duplicates('Name', keep = 'last')\n",
    "misc = misc.sort_values(by='Minutes').drop_duplicates('Name', keep = 'last')\n",
    "penalty_pts = penalty_pts.sort_values(by='Minutes').drop_duplicates('Name', keep = 'last')\n",
    "second_chance = second_chance.sort_values(by='Minutes').drop_duplicates('Name', keep = 'last')\n",
    "shot_distribution = shot_distribution.sort_values(by='Minutes').drop_duplicates('Name', keep = 'last')\n",
    "FT_source = FT_source.sort_values(by='Minutes').drop_duplicates('Name', keep = 'last')\n",
    "turnovers = turnovers.sort_values(by='Minutes').drop_duplicates('Name', keep = 'last')\n",
    "assists = assists.sort_values(by='Minutes').drop_duplicates('Name', keep = 'last')\n",
    "rebounds = rebounds.sort_values(by='Minutes').drop_duplicates('Name', keep = 'last')\n",
    "scoring = scoring.sort_values(by='Minutes').drop_duplicates('Name', keep = 'last')\n",
    "\n",
    "\n",
    "# print(fouls.shape)\n",
    "# print(misc.shape)\n",
    "# print(penalty_pts.shape)\n",
    "# print(second_chance.shape)\n",
    "# print(shot_distribution.shape)\n",
    "# print(FT_source.shape)\n",
    "# print(turnovers.shape)\n",
    "# print(rebounds.shape)\n",
    "# print(assists.shape)\n",
    "# print(scoring.shape)\n",
    "\n"
   ]
  },
  {
   "cell_type": "code",
   "execution_count": 5,
   "metadata": {},
   "outputs": [
    {
     "data": {
      "text/plain": [
       "Index(['Name', 'TeamAbbreviation', 'GamesPlayed', 'Minutes', 'FTA',\n",
       "       'Technical Free Throw Trips', 'TwoPtShootingFoulsDrawn',\n",
       "       '2pt And 1 Free Throw Trips', 'ThreePtShootingFoulsDrawn',\n",
       "       '3pt And 1 Free Throw Trips', 'NonShootingFoulsDrawn',\n",
       "       'ShootingFoulsDrawnPct', 'TwoPtShootingFoulsDrawnPct',\n",
       "       'ThreePtShootingFoulsDrawnPct'],\n",
       "      dtype='object')"
      ]
     },
     "execution_count": 5,
     "metadata": {},
     "output_type": "execute_result"
    }
   ],
   "source": [
    "# FT_source.columns"
   ]
  },
  {
   "cell_type": "code",
   "execution_count": 6,
   "metadata": {},
   "outputs": [
    {
     "name": "stdout",
     "output_type": "stream",
     "text": [
      "(530, 223)\n"
     ]
    }
   ],
   "source": [
    "df_list = [fouls,misc,penalty_pts,second_chance,shot_distribution, FT_source, turnovers, assists, rebounds, scoring]\n",
    "\n",
    "df_merged = reduce(lambda  left,right: pd.merge(left,right,on=['Name','TeamAbbreviation', 'GamesPlayed','Minutes'],\n",
    "                                            how='inner'), df_list)\n",
    "#print(df_merged.shape)"
   ]
  },
  {
   "cell_type": "code",
   "execution_count": 7,
   "metadata": {},
   "outputs": [
    {
     "name": "stdout",
     "output_type": "stream",
     "text": [
      "(452, 221)\n"
     ]
    }
   ],
   "source": [
    "df_merged = df_merged.loc[df_merged['GamesPlayed'] > 10]\n",
    "df_merged['mpg'] = df_merged['Minutes']/df_merged['GamesPlayed']\n",
    "df_merged.drop(columns = ['Minutes','GamesPlayed'], inplace = True)\n",
    "df_merged.sort_values(by='Name').head()\n",
    "df_merged.drop(columns = 'ShotQualityAvg_y', inplace = True)\n",
    "df_merged.rename(columns = {'ShotQualityAvg_x':'ShotQualityAvg'}, inplace = True)\n",
    "#print(df_merged.shape)"
   ]
  },
  {
   "cell_type": "code",
   "execution_count": 8,
   "metadata": {},
   "outputs": [],
   "source": [
    "\n",
    "#clustering based on only some characteristics\n",
    "#All features already stored in variable 'features'\n",
    "features = list(df_merged.columns[2:].values)\n",
    "only_fouls = list(fouls.columns[4:])\n",
    "only_misc = list(misc.columns[4:])\n",
    "only_penalty_pts = list(penalty_pts.columns[4:])\n",
    "only_sec_chance = list(second_chance.columns[4:])\n",
    "only_shot_dist = list(shot_distribution.columns[4:])\n",
    "only_FT_source = list(FT_source.columns[4:])\n",
    "only_turovers = list(turnovers.columns[4:])\n",
    "only_rebs = list(rebounds.columns[4:])\n",
    "only_assits = list(assists.columns[4:])\n",
    "only_scoring = list(scoring.columns[4:])\n"
   ]
  },
  {
   "cell_type": "code",
   "execution_count": 9,
   "metadata": {},
   "outputs": [],
   "source": [
    "def calc_pca(input_df, feat, var_pres = 0.9):\n",
    "    scaler = MinMaxScaler()\n",
    "    input_df[feat] = scaler.fit_transform(input_df[feat])\n",
    "    x = input_df.loc[:, feat].values\n",
    "    x = np.nan_to_num(x)\n",
    "    pca = PCA(.9)\n",
    "    pca_components = pca.fit_transform(x)\n",
    "    print('Number of PCA components to preserve {}% variance is {} '.format(var_pres*100, pca.n_components_))\n",
    "    principal_dataframe = pd.DataFrame(data = pca_components)\n",
    "    principal_dataframe['Name'] = input_df['Name'].values\n",
    "    return principal_dataframe\n"
   ]
  },
  {
   "cell_type": "code",
   "execution_count": 10,
   "metadata": {},
   "outputs": [],
   "source": [
    "def calc_dist(input_df):\n",
    "    dist_df = euclidean_distances(input_df[input_df.columns[:-1].values],input_df[input_df.columns[:-1].values])\n",
    "    dist_df = pd.DataFrame(dist_df)\n",
    "    dist_df.index = input_df['Name'].values\n",
    "    dist_df.columns = input_df['Name'].values\n",
    "    return dist_df\n",
    "\n",
    "\n",
    "def sorted_dist_df(distance_matrix):\n",
    "    return (pd.DataFrame(distance_matrix.columns[np.argsort(distance_matrix.values, axis=1)],index=distance_matrix.index))"
   ]
  },
  {
   "cell_type": "code",
   "execution_count": null,
   "metadata": {},
   "outputs": [],
   "source": []
  },
  {
   "cell_type": "code",
   "execution_count": null,
   "metadata": {},
   "outputs": [],
   "source": []
  },
  {
   "cell_type": "code",
   "execution_count": 11,
   "metadata": {},
   "outputs": [],
   "source": [
    "# player_names = df_merged['Name'].sort_values()\n",
    "\n",
    "# pca_df = calc_pca(df_merged, only_sec_chance)\n",
    "# dist_df = calc_dist(pca_df)\n",
    "# sorted_distances = sorted_dist_df(dist_df)\n",
    "\n",
    "# def closest_neighbor(player, num_close):\n",
    "#     return sorted_distances.loc[player,1:num_close]\n",
    "\n",
    "# def closest_neighbor(player, num_close):\n",
    "#     return sorted_distances.loc[player,1:num_close]"
   ]
  },
  {
   "cell_type": "code",
   "execution_count": 12,
   "metadata": {},
   "outputs": [],
   "source": [
    "#interact(closest_neighbor, player = player_names, num_close = range(1,10))"
   ]
  },
  {
   "cell_type": "code",
   "execution_count": 13,
   "metadata": {},
   "outputs": [],
   "source": [
    "options = {\n",
    "'overall': features ,\n",
    "'scoring': only_fouls, \n",
    "'other' : only_misc ,\n",
    "'penalty points' :only_penalty_pts ,\n",
    "'second chance points' : only_sec_chance ,\n",
    "'shot distances' :only_shot_dist,\n",
    "'free throw' : only_FT_source ,\n",
    "'turnovers': only_turovers ,\n",
    "'rebounds' : only_rebs ,\n",
    "'assists': only_assits ,\n",
    "'scoring':only_scoring \n",
    "}\n",
    "\n",
    "player_names = df_merged['Name'].sort_values()"
   ]
  },
  {
   "cell_type": "code",
   "execution_count": 14,
   "metadata": {},
   "outputs": [],
   "source": [
    "def closest_neighbor(player, ft, num_close):\n",
    "    pca_df = calc_pca(df_merged, options[ft])\n",
    "    dist_df = calc_dist(pca_df)\n",
    "    sorted_distances = sorted_dist_df(dist_df)\n",
    "    \n",
    "    plt.figure(figsize=(10,10))\n",
    "    plt.scatter(pca_df[0], pca_df[1])\n",
    "\n",
    "    for label, x, y in zip(pca_df[pca_df['Name'] == player]['Name'], \n",
    "                       pca_df[pca_df['Name'] == player][0], \n",
    "                       pca_df[pca_df['Name'] == player][1]):\n",
    "        plt.annotate(label,\n",
    "        xy=(x, y), xytext=(-20, 20),\n",
    "        textcoords='offset pixels', ha='left', va='bottom',\n",
    "        bbox=dict(boxstyle='round,pad=0.5', fc='yellow', alpha=0.5),\n",
    "        arrowprops=dict(arrowstyle = '->', connectionstyle='arc3,rad=0'))\n",
    "        plt.xlabel('1st Principal Component', fontsize = 20)\n",
    "        plt.ylabel('2nd Principal Component', fontsize = 20)\n",
    "        plt.title('1st and 2nd Principal Component of NBA Players.(2019-20)', fontsize=20)\n",
    "        plt.xticks([], [])\n",
    "    \n",
    "    \n",
    "    return sorted_distances.loc[player,1:num_close]"
   ]
  },
  {
   "cell_type": "code",
   "execution_count": 15,
   "metadata": {},
   "outputs": [
    {
     "data": {
      "application/vnd.jupyter.widget-view+json": {
       "model_id": "6a136200cf914614a8a7cf6498c7e24a",
       "version_major": 2,
       "version_minor": 0
      },
      "text/plain": [
       "interactive(children=(Dropdown(description='player', options=('Aaron Gordon', 'Aaron Holiday', 'Abdel Nader', …"
      ]
     },
     "metadata": {},
     "output_type": "display_data"
    },
    {
     "data": {
      "text/plain": [
       "<function __main__.closest_neighbor(player, ft, num_close)>"
      ]
     },
     "execution_count": 15,
     "metadata": {},
     "output_type": "execute_result"
    }
   ],
   "source": [
    "interact(closest_neighbor, \n",
    "         player = player_names,\n",
    "         ft = list(options.keys()),\n",
    "         num_close = range(1,11))"
   ]
  },
  {
   "cell_type": "code",
   "execution_count": null,
   "metadata": {},
   "outputs": [],
   "source": [
    "\n"
   ]
  },
  {
   "cell_type": "code",
   "execution_count": null,
   "metadata": {},
   "outputs": [],
   "source": []
  }
 ],
 "metadata": {
  "kernelspec": {
   "display_name": "Python 3",
   "language": "python",
   "name": "python3"
  },
  "language_info": {
   "codemirror_mode": {
    "name": "ipython",
    "version": 3
   },
   "file_extension": ".py",
   "mimetype": "text/x-python",
   "name": "python",
   "nbconvert_exporter": "python",
   "pygments_lexer": "ipython3",
   "version": "3.6.5"
  }
 },
 "nbformat": 4,
 "nbformat_minor": 2
}
